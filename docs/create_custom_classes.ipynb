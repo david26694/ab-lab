{
    "cells": [
        {
            "attachments": {},
            "cell_type": "markdown",
            "metadata": {},
            "source": [
                "Examples on how to create:\n",
                "* a custom perturbator\n",
                "* a custom splitter\n",
                "* a custom hypothesis test\n",
                "\n",
                "The names of you custom classes don't need to be CustomX, they are completely free. The only requirement is that they inherit from the base class. For example, if you want to create a custom perturbator, you need to inherit from the Perturbator base class. The same applies to the other classes."
            ]
        },
        {
            "cell_type": "code",
            "execution_count": 1,
            "metadata": {},
            "outputs": [],
            "source": [
                "from ab_lab import ExperimentAnalysis\n",
                "import pandas as pd\n",
                "from scipy.stats import ttest_ind\n",
                "\n",
                "class CustomExperimentAnalysis(ExperimentAnalysis):\n",
                "    def analysis_pvalue(self, df: pd.DataFrame, verbose: bool = True) -> float:\n",
                "        treatment_data = df.query(f\"{self.treatment_col} == 1\")[self.target_col]\n",
                "        control_data = df.query(f\"{self.treatment_col} == 0\")[self.target_col]\n",
                "        t_test_results = ttest_ind(treatment_data, control_data, equal_var=False)\n",
                "        return t_test_results.pvalue"
            ]
        },
        {
            "cell_type": "code",
            "execution_count": 2,
            "metadata": {},
            "outputs": [],
            "source": [
                "from ab_lab import RandomSplitter\n",
                "import numpy as np\n",
                "\n",
                "class CustomRandomSplitter(RandomSplitter):\n",
                "    def assign_treatment_df(self, df: pd.DataFrame) -> pd.DataFrame:\n",
                "        df = df.copy()\n",
                "        # Power users get treatment with 90% probability\n",
                "        df_power_users = df.query(\"power_user\")\n",
                "        df_power_users[self.treatment_col] = np.random.choice(\n",
                "            [\"A\", \"B\"], size=len(df_power_users), p=[0.1, 0.9]\n",
                "        )\n",
                "        # Non-power users get treatment with 10% probability\n",
                "        df_non_power_users = df.query(\"not power_user\")\n",
                "        df_non_power_users[self.treatment_col] = np.random.choice(\n",
                "            [\"A\", \"B\"], size=len(df_non_power_users), p=[0.9, 0.1]\n",
                "        )\n",
                "        return pd.concat([df_power_users, df_non_power_users])"
            ]
        },
        {
            "cell_type": "code",
            "execution_count": 3,
            "metadata": {},
            "outputs": [],
            "source": [
                "from ab_lab import Perturbator\n",
                "import pandas as pd\n",
                "\n",
                "class CustomPerturbator(Perturbator):\n",
                "    def perturbate(self, df: pd.DataFrame, average_effect: float) -> pd.DataFrame:\n",
                "        df = df.copy().reset_index(drop=True)\n",
                "        n = (df[self.treatment_col] == self.treatment).sum()\n",
                "        df.loc[\n",
                "            df[self.treatment_col] == self.treatment, self.target_col\n",
                "        ] += np.random.normal(average_effect, 1, size=n)\n",
                "        return df"
            ]
        }
    ],
    "metadata": {
        "kernelspec": {
            "display_name": "Python 3.8.6 ('venv': venv)",
            "language": "python",
            "name": "python3"
        },
        "language_info": {
            "codemirror_mode": {
                "name": "ipython",
                "version": 3
            },
            "file_extension": ".py",
            "mimetype": "text/x-python",
            "name": "python",
            "nbconvert_exporter": "python",
            "pygments_lexer": "ipython3",
            "version": "3.8.6 (default, Jan 17 2022, 12:11:54) \n[Clang 12.0.5 (clang-1205.0.22.11)]"
        },
        "orig_nbformat": 4,
        "vscode": {
            "interpreter": {
                "hash": "29c447d2129f0d56b23b7ba3abc571cfa9d42454e0e2bba301a881797dc4c0e2"
            }
        }
    },
    "nbformat": 4,
    "nbformat_minor": 2
}

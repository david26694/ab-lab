{
    "cells": [
        {
            "attachments": {},
            "cell_type": "markdown",
            "metadata": {},
            "source": [
                "This notebook shows how NormalPowerAnalysis and PowerAnalysis calculators give similar powers for a switchback experiment, and the normal one is way faster."
            ]
        },
        {
            "cell_type": "code",
            "execution_count": 1,
            "metadata": {},
            "outputs": [],
            "source": [
                "from datetime import date\n",
                "\n",
                "import numpy as np\n",
                "from cluster_experiments import PowerAnalysis, ConstantPerturbator, BalancedClusteredSplitter, ExperimentAnalysis, ClusteredOLSAnalysis, NormalPowerAnalysis\n",
                "import pandas as pd\n",
                "from time import time\n",
                "\n",
                "\n",
                "\n",
                "# Create fake data\n",
                "N = 10_000\n",
                "clusters = [f\"Cluster {i}\" for i in range(10)]\n",
                "dates = [f\"{date(2022, 1, i):%Y-%m-%d}\" for i in range(1, 15)]\n",
                "df = pd.DataFrame(\n",
                "    {\n",
                "        \"cluster\": np.random.choice(clusters, size=N),\n",
                "        \"date\": np.random.choice(dates, size=N),\n",
                "    }\n",
                ").assign(\n",
                "    # Target is a linear combination of cluster and day of week, plus some noise\n",
                "    cluster_id=lambda df: df[\"cluster\"].astype(\"category\").cat.codes,\n",
                "    day_of_week=lambda df: pd.to_datetime(df[\"date\"]).dt.dayofweek,\n",
                "    target=lambda df: df[\"cluster_id\"] + df[\"day_of_week\"] + np.random.normal(size=N),\n",
                ")\n"
            ]
        },
        {
            "cell_type": "code",
            "execution_count": 2,
            "metadata": {},
            "outputs": [
                {
                    "data": {
                        "text/html": [
                            "<div>\n",
                            "<style scoped>\n",
                            "    .dataframe tbody tr th:only-of-type {\n",
                            "        vertical-align: middle;\n",
                            "    }\n",
                            "\n",
                            "    .dataframe tbody tr th {\n",
                            "        vertical-align: top;\n",
                            "    }\n",
                            "\n",
                            "    .dataframe thead th {\n",
                            "        text-align: right;\n",
                            "    }\n",
                            "</style>\n",
                            "<table border=\"1\" class=\"dataframe\">\n",
                            "  <thead>\n",
                            "    <tr style=\"text-align: right;\">\n",
                            "      <th></th>\n",
                            "      <th>cluster</th>\n",
                            "      <th>date</th>\n",
                            "      <th>cluster_id</th>\n",
                            "      <th>day_of_week</th>\n",
                            "      <th>target</th>\n",
                            "    </tr>\n",
                            "  </thead>\n",
                            "  <tbody>\n",
                            "    <tr>\n",
                            "      <th>0</th>\n",
                            "      <td>Cluster 3</td>\n",
                            "      <td>2022-01-12</td>\n",
                            "      <td>3</td>\n",
                            "      <td>2</td>\n",
                            "      <td>5.206403</td>\n",
                            "    </tr>\n",
                            "    <tr>\n",
                            "      <th>1</th>\n",
                            "      <td>Cluster 3</td>\n",
                            "      <td>2022-01-14</td>\n",
                            "      <td>3</td>\n",
                            "      <td>4</td>\n",
                            "      <td>7.004311</td>\n",
                            "    </tr>\n",
                            "    <tr>\n",
                            "      <th>2</th>\n",
                            "      <td>Cluster 9</td>\n",
                            "      <td>2022-01-06</td>\n",
                            "      <td>9</td>\n",
                            "      <td>3</td>\n",
                            "      <td>11.554722</td>\n",
                            "    </tr>\n",
                            "    <tr>\n",
                            "      <th>3</th>\n",
                            "      <td>Cluster 1</td>\n",
                            "      <td>2022-01-10</td>\n",
                            "      <td>1</td>\n",
                            "      <td>0</td>\n",
                            "      <td>2.697168</td>\n",
                            "    </tr>\n",
                            "    <tr>\n",
                            "      <th>4</th>\n",
                            "      <td>Cluster 8</td>\n",
                            "      <td>2022-01-14</td>\n",
                            "      <td>8</td>\n",
                            "      <td>4</td>\n",
                            "      <td>10.311295</td>\n",
                            "    </tr>\n",
                            "  </tbody>\n",
                            "</table>\n",
                            "</div>"
                        ],
                        "text/plain": [
                            "     cluster        date  cluster_id  day_of_week     target\n",
                            "0  Cluster 3  2022-01-12           3            2   5.206403\n",
                            "1  Cluster 3  2022-01-14           3            4   7.004311\n",
                            "2  Cluster 9  2022-01-06           9            3  11.554722\n",
                            "3  Cluster 1  2022-01-10           1            0   2.697168\n",
                            "4  Cluster 8  2022-01-14           8            4  10.311295"
                        ]
                    },
                    "execution_count": 2,
                    "metadata": {},
                    "output_type": "execute_result"
                }
            ],
            "source": [
                "df.head()"
            ]
        },
        {
            "attachments": {},
            "cell_type": "markdown",
            "metadata": {},
            "source": [
                "Some clusters have a higher average outcome than others"
            ]
        },
        {
            "cell_type": "code",
            "execution_count": 3,
            "metadata": {},
            "outputs": [],
            "source": [
                "cluster_cols = [\"cluster\", \"date\"]\n",
                "\n",
                "splitter = BalancedClusteredSplitter(\n",
                "    cluster_cols=cluster_cols,\n",
                ")\n",
                "\n",
                "perturbator = ConstantPerturbator()\n",
                "\n",
                "analysis = ClusteredOLSAnalysis(\n",
                "    cluster_cols=cluster_cols,\n",
                ")\n",
                "\n",
                "alpha = 0.05\n",
                "n_simulations = 100\n",
                "n_simulations_normal = 10\n",
                "\n",
                "# Simulated power analysis, we use clustered splitter and ols clustered analysis\n",
                "pw_simulated = PowerAnalysis(\n",
                "    splitter=splitter,\n",
                "    perturbator=perturbator,\n",
                "    alpha=alpha,\n",
                "    n_simulations=n_simulations,\n",
                "    analysis=analysis,\n",
                ")\n",
                "\n",
                "# Normal power analysis, uses Central limit theorem to estimate power, and needs less simulations\n",
                "pw_normal = NormalPowerAnalysis(\n",
                "    splitter=splitter,\n",
                "    alpha=alpha,\n",
                "    n_simulations=n_simulations_normal,\n",
                "    analysis=analysis,\n",
                ")\n"
            ]
        },
        {
            "cell_type": "code",
            "execution_count": 4,
            "metadata": {},
            "outputs": [],
            "source": [
                "# power line for simulated\n",
                "effects = [0.25, 0.5, 0.75, 1, 1.25, 1.5, 1.75]\n",
                "time_pw = time()\n",
                "pw_simulated_line = pw_simulated.power_line(df, average_effects=effects)\n",
                "print(f\"Simulated power line took {time() - time_pw} seconds\")"
            ]
        },
        {
            "cell_type": "code",
            "execution_count": null,
            "metadata": {},
            "outputs": [
                {
                    "name": "stdout",
                    "output_type": "stream",
                    "text": [
                        "Time for normal power line: 0.40550780296325684 seconds\n"
                    ]
                }
            ],
            "source": [
                "# power line for normal\n",
                "time_pw = time()\n",
                "pw_normal_line = pw_normal.power_line(df, average_effects=effects)\n",
                "print(f\"Time for normal power line: {time() - time_pw} seconds\")"
            ]
        },
        {
            "cell_type": "code",
            "execution_count": null,
            "metadata": {},
            "outputs": [
                {
                    "name": "stdout",
                    "output_type": "stream",
                    "text": [
                        "Time for normal power line single simulation: 0.06014275550842285 seconds\n"
                    ]
                }
            ],
            "source": [
                "# power line for normal, single simulation\n",
                "time_pw = time()\n",
                "pw_normal.n_simulations = 1\n",
                "pw_normal_line_single = pw_normal.power_line(df, average_effects=effects)\n",
                "print(f\"Time for normal power line single simulation: {time() - time_pw} seconds\")"
            ]
        },
        {
            "cell_type": "code",
            "execution_count": null,
            "metadata": {},
            "outputs": [
                {
                    "data": {
                        "text/plain": [
                            "<AxesSubplot:title={'center':'Power analysis'}, xlabel='Average effect', ylabel='Power'>"
                        ]
                    },
                    "execution_count": 7,
                    "metadata": {},
                    "output_type": "execute_result"
                },
                {
                    "data": {
                        "image/png": "[encoded data removed]",
                        "text/plain": [
                            "<Figure size 432x288 with 1 Axes>"
                        ]
                    },
                    "metadata": {
                        "needs_background": "light"
                    },
                    "output_type": "display_data"
                }
            ],
            "source": [
                "pd.DataFrame(\n",
                "    {\n",
                "        \"Average effect\": effects,\n",
                "        \"Simulated power\": pw_simulated_line.values(),\n",
                "        \"Normal power\": pw_normal_line.values(),\n",
                "        \"Normal power single simulation\": pw_normal_line_single.values(),\n",
                "    }\n",
                ").plot(\n",
                "    x=\"Average effect\",\n",
                "    y=[\"Simulated power\", \"Normal power\", \"Normal power single simulation\"],\n",
                "    title=\"Power analysis\",\n",
                "    xlabel=\"Average effect\",\n",
                "    ylabel=\"Power\",\n",
                "    marker=\"o\",\n",
                ")"
            ]
        },
        {
            "cell_type": "code",
            "execution_count": null,
            "metadata": {},
            "outputs": [],
            "source": [
                "# pw_normal can also be used to find MDE\n",
                "mde = pw_normal.mde(df, power=0.7)\n",
                "print(f\"Minimum detectable effect: {mde:.2f}\")\n",
                "\n",
                "# and we can retrieve the power for a given effect size\n",
                "power = pw_normal.power_analysis(df, average_effect=mde)\n",
                "print(f\"Power for MDE: {power:.2f}, should be 0.7\")"
            ]
        }
    ],
    "metadata": {
        "kernelspec": {
            "display_name": "venv",
            "language": "python",
            "name": "python3"
        },
        "language_info": {
            "codemirror_mode": {
                "name": "ipython",
                "version": 3
            },
            "file_extension": ".py",
            "mimetype": "text/x-python",
            "name": "python",
            "nbconvert_exporter": "python",
            "pygments_lexer": "ipython3",
            "version": "3.8.6"
        },
        "orig_nbformat": 4,
        "vscode": {
            "interpreter": {
                "hash": "29c447d2129f0d56b23b7ba3abc571cfa9d42454e0e2bba301a881797dc4c0e2"
            }
        }
    },
    "nbformat": 4,
    "nbformat_minor": 2
}

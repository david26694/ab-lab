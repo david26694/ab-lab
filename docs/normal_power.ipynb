{
    "cells": [
        {
            "attachments": {},
            "cell_type": "markdown",
            "metadata": {},
            "source": [
                "This notebook shows how NormalPowerAnalysis and PowerAnalysis calculators give similar powers for a switchback experiment"
            ]
        },
        {
            "cell_type": "code",
            "execution_count": 1,
            "metadata": {},
            "outputs": [],
            "source": [
                "from datetime import date\n",
                "\n",
                "import numpy as np\n",
                "from cluster_experiments import PowerAnalysis, ConstantPerturbator, BalancedClusteredSplitter, ExperimentAnalysis, ClusteredOLSAnalysis, NormalPowerAnalysis\n",
                "import pandas as pd\n",
                "\n",
                "\n",
                "\n",
                "# Create fake data\n",
                "N = 10_000\n",
                "clusters = [f\"Cluster {i}\" for i in range(10)]\n",
                "dates = [f\"{date(2022, 1, i):%Y-%m-%d}\" for i in range(1, 15)]\n",
                "df = pd.DataFrame(\n",
                "    {\n",
                "        \"cluster\": np.random.choice(clusters, size=N),\n",
                "        \"date\": np.random.choice(dates, size=N),\n",
                "    }\n",
                ").assign(\n",
                "    # Target is a linear combination of cluster and day of week, plus some noise\n",
                "    cluster_id=lambda df: df[\"cluster\"].astype(\"category\").cat.codes,\n",
                "    day_of_week=lambda df: pd.to_datetime(df[\"date\"]).dt.dayofweek,\n",
                "    target=lambda df: df[\"cluster_id\"] + df[\"day_of_week\"] + np.random.normal(size=N),\n",
                ")\n"
            ]
        },
        {
            "cell_type": "code",
            "execution_count": 2,
            "metadata": {},
            "outputs": [
                {
                    "data": {
                        "text/html": [
                            "<div>\n",
                            "<style scoped>\n",
                            "    .dataframe tbody tr th:only-of-type {\n",
                            "        vertical-align: middle;\n",
                            "    }\n",
                            "\n",
                            "    .dataframe tbody tr th {\n",
                            "        vertical-align: top;\n",
                            "    }\n",
                            "\n",
                            "    .dataframe thead th {\n",
                            "        text-align: right;\n",
                            "    }\n",
                            "</style>\n",
                            "<table border=\"1\" class=\"dataframe\">\n",
                            "  <thead>\n",
                            "    <tr style=\"text-align: right;\">\n",
                            "      <th></th>\n",
                            "      <th>cluster</th>\n",
                            "      <th>date</th>\n",
                            "      <th>cluster_id</th>\n",
                            "      <th>day_of_week</th>\n",
                            "      <th>target</th>\n",
                            "    </tr>\n",
                            "  </thead>\n",
                            "  <tbody>\n",
                            "    <tr>\n",
                            "      <th>0</th>\n",
                            "      <td>Cluster 8</td>\n",
                            "      <td>2022-01-07</td>\n",
                            "      <td>8</td>\n",
                            "      <td>4</td>\n",
                            "      <td>13.096328</td>\n",
                            "    </tr>\n",
                            "    <tr>\n",
                            "      <th>1</th>\n",
                            "      <td>Cluster 5</td>\n",
                            "      <td>2022-01-10</td>\n",
                            "      <td>5</td>\n",
                            "      <td>0</td>\n",
                            "      <td>4.356023</td>\n",
                            "    </tr>\n",
                            "    <tr>\n",
                            "      <th>2</th>\n",
                            "      <td>Cluster 2</td>\n",
                            "      <td>2022-01-14</td>\n",
                            "      <td>2</td>\n",
                            "      <td>4</td>\n",
                            "      <td>7.487109</td>\n",
                            "    </tr>\n",
                            "    <tr>\n",
                            "      <th>3</th>\n",
                            "      <td>Cluster 6</td>\n",
                            "      <td>2022-01-05</td>\n",
                            "      <td>6</td>\n",
                            "      <td>2</td>\n",
                            "      <td>7.356390</td>\n",
                            "    </tr>\n",
                            "    <tr>\n",
                            "      <th>4</th>\n",
                            "      <td>Cluster 9</td>\n",
                            "      <td>2022-01-01</td>\n",
                            "      <td>9</td>\n",
                            "      <td>5</td>\n",
                            "      <td>13.388890</td>\n",
                            "    </tr>\n",
                            "  </tbody>\n",
                            "</table>\n",
                            "</div>"
                        ],
                        "text/plain": [
                            "     cluster        date  cluster_id  day_of_week     target\n",
                            "0  Cluster 8  2022-01-07           8            4  13.096328\n",
                            "1  Cluster 5  2022-01-10           5            0   4.356023\n",
                            "2  Cluster 2  2022-01-14           2            4   7.487109\n",
                            "3  Cluster 6  2022-01-05           6            2   7.356390\n",
                            "4  Cluster 9  2022-01-01           9            5  13.388890"
                        ]
                    },
                    "execution_count": 2,
                    "metadata": {},
                    "output_type": "execute_result"
                }
            ],
            "source": [
                "df.head()"
            ]
        },
        {
            "attachments": {},
            "cell_type": "markdown",
            "metadata": {},
            "source": [
                "Some clusters have a higher average outcome than others"
            ]
        },
        {
            "cell_type": "code",
            "execution_count": 30,
            "metadata": {},
            "outputs": [],
            "source": [
                "cluster_cols = [\"cluster\", \"date\"]\n",
                "\n",
                "splitter = BalancedClusteredSplitter(\n",
                "    cluster_cols=cluster_cols,\n",
                ")\n",
                "\n",
                "perturbator = ConstantPerturbator()\n",
                "\n",
                "analysis = ClusteredOLSAnalysis(\n",
                "    cluster_cols=cluster_cols,\n",
                ")\n",
                "\n",
                "alpha = 0.05\n",
                "n_simulations = 100\n",
                "n_simulations_normal = 10\n",
                "\n",
                "# Simulated power analysis, we use clustered splitter and ols clustered analysis\n",
                "pw_simulated = PowerAnalysis(\n",
                "    splitter=splitter,\n",
                "    perturbator=perturbator,\n",
                "    alpha=alpha,\n",
                "    n_simulations=n_simulations,\n",
                "    analysis=analysis,\n",
                ")\n",
                "\n",
                "# Normal power analysis, uses Central limit theorem to estimate power, and needs less simulations\n",
                "pw_normal = NormalPowerAnalysis(\n",
                "    splitter=splitter,\n",
                "    alpha=alpha,\n",
                "    n_simulations=n_simulations,\n",
                "    analysis=analysis,\n",
                ")\n"
            ]
        },
        {
            "cell_type": "code",
            "execution_count": 31,
            "metadata": {},
            "outputs": [],
            "source": [
                "# power line for simulated\n",
                "pw_simulated_line = pw_simulated.power_line(df, average_effects=[0.05, 0.1, 0.15, 0.2, 0.25, 0.3])"
            ]
        },
        {
            "cell_type": "code",
            "execution_count": 32,
            "metadata": {},
            "outputs": [
                {
                    "data": {
                        "text/plain": [
                            "{0.05: 0.10677146772831803,\n",
                            " 0.1: 0.28420471420327353,\n",
                            " 0.15: 0.5488103982168475,\n",
                            " 0.2: 0.7929723292605043,\n",
                            " 0.25: 0.9346005373723081,\n",
                            " 0.3: 0.9862779767444964}"
                        ]
                    },
                    "execution_count": 32,
                    "metadata": {},
                    "output_type": "execute_result"
                }
            ],
            "source": [
                "# power line for normal\n",
                "pw_normal_line = pw_normal.power_line(df, average_effects=[0.05, 0.1, 0.15, 0.2, 0.25, 0.3])\n",
                "pw_normal_line"
            ]
        },
        {
            "cell_type": "code",
            "execution_count": 33,
            "metadata": {},
            "outputs": [
                {
                    "data": {
                        "text/html": [
                            "<div>\n",
                            "<style scoped>\n",
                            "    .dataframe tbody tr th:only-of-type {\n",
                            "        vertical-align: middle;\n",
                            "    }\n",
                            "\n",
                            "    .dataframe tbody tr th {\n",
                            "        vertical-align: top;\n",
                            "    }\n",
                            "\n",
                            "    .dataframe thead th {\n",
                            "        text-align: right;\n",
                            "    }\n",
                            "</style>\n",
                            "<table border=\"1\" class=\"dataframe\">\n",
                            "  <thead>\n",
                            "    <tr style=\"text-align: right;\">\n",
                            "      <th></th>\n",
                            "      <th>Average effect</th>\n",
                            "      <th>Simulated power</th>\n",
                            "      <th>Normal power</th>\n",
                            "    </tr>\n",
                            "  </thead>\n",
                            "  <tbody>\n",
                            "    <tr>\n",
                            "      <th>0</th>\n",
                            "      <td>0.05</td>\n",
                            "      <td>0.04</td>\n",
                            "      <td>0.106771</td>\n",
                            "    </tr>\n",
                            "    <tr>\n",
                            "      <th>1</th>\n",
                            "      <td>0.10</td>\n",
                            "      <td>0.07</td>\n",
                            "      <td>0.284205</td>\n",
                            "    </tr>\n",
                            "    <tr>\n",
                            "      <th>2</th>\n",
                            "      <td>0.15</td>\n",
                            "      <td>0.04</td>\n",
                            "      <td>0.548810</td>\n",
                            "    </tr>\n",
                            "    <tr>\n",
                            "      <th>3</th>\n",
                            "      <td>0.20</td>\n",
                            "      <td>0.02</td>\n",
                            "      <td>0.792972</td>\n",
                            "    </tr>\n",
                            "    <tr>\n",
                            "      <th>4</th>\n",
                            "      <td>0.25</td>\n",
                            "      <td>0.07</td>\n",
                            "      <td>0.934601</td>\n",
                            "    </tr>\n",
                            "    <tr>\n",
                            "      <th>5</th>\n",
                            "      <td>0.30</td>\n",
                            "      <td>0.04</td>\n",
                            "      <td>0.986278</td>\n",
                            "    </tr>\n",
                            "  </tbody>\n",
                            "</table>\n",
                            "</div>"
                        ],
                        "text/plain": [
                            "   Average effect  Simulated power  Normal power\n",
                            "0            0.05             0.04      0.106771\n",
                            "1            0.10             0.07      0.284205\n",
                            "2            0.15             0.04      0.548810\n",
                            "3            0.20             0.02      0.792972\n",
                            "4            0.25             0.07      0.934601\n",
                            "5            0.30             0.04      0.986278"
                        ]
                    },
                    "execution_count": 33,
                    "metadata": {},
                    "output_type": "execute_result"
                }
            ],
            "source": [
                "pd.DataFrame(\n",
                "    {\n",
                "        \"Average effect\": [0.05, 0.1, 0.15, 0.2, 0.25, 0.3],\n",
                "        \"Simulated power\": pw_simulated_line.values(),\n",
                "        \"Normal power\": pw_normal_line.values(),\n",
                "    }\n",
                ")"
            ]
        },
        {
            "cell_type": "code",
            "execution_count": 29,
            "metadata": {},
            "outputs": [
                {
                    "data": {
                        "text/plain": [
                            "1.0"
                        ]
                    },
                    "execution_count": 29,
                    "metadata": {},
                    "output_type": "execute_result"
                }
            ],
            "source": [
                "pw_simulated.power_analysis(df, average_effect=1)"
            ]
        },
        {
            "cell_type": "code",
            "execution_count": 27,
            "metadata": {},
            "outputs": [
                {
                    "data": {
                        "text/plain": [
                            "0.28469297656183246"
                        ]
                    },
                    "execution_count": 27,
                    "metadata": {},
                    "output_type": "execute_result"
                }
            ],
            "source": [
                "pw_normal.power_analysis(df, average_effect=0.1)"
            ]
        },
        {
            "cell_type": "code",
            "execution_count": null,
            "metadata": {},
            "outputs": [],
            "source": []
        },
        {
            "cell_type": "code",
            "execution_count": null,
            "metadata": {},
            "outputs": [],
            "source": []
        }
    ],
    "metadata": {
        "kernelspec": {
            "display_name": "venv",
            "language": "python",
            "name": "python3"
        },
        "language_info": {
            "codemirror_mode": {
                "name": "ipython",
                "version": 3
            },
            "file_extension": ".py",
            "mimetype": "text/x-python",
            "name": "python",
            "nbconvert_exporter": "python",
            "pygments_lexer": "ipython3",
            "version": "3.8.6"
        },
        "orig_nbformat": 4,
        "vscode": {
            "interpreter": {
                "hash": "29c447d2129f0d56b23b7ba3abc571cfa9d42454e0e2bba301a881797dc4c0e2"
            }
        }
    },
    "nbformat": 4,
    "nbformat_minor": 2
}

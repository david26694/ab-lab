{
    "cells": [
        {
            "attachments": {},
            "cell_type": "markdown",
            "metadata": {},
            "source": [
                "This notebook shows how NormalPowerAnalysis and PowerAnalysis calculators give similar powers for a switchback experiment"
            ]
        },
        {
            "cell_type": "code",
            "execution_count": 1,
            "metadata": {},
            "outputs": [],
            "source": [
                "from datetime import date\n",
                "\n",
                "import numpy as np\n",
                "from cluster_experiments import PowerAnalysis, ConstantPerturbator, BalancedClusteredSplitter, ExperimentAnalysis, ClusteredOLSAnalysis, NormalPowerAnalysis\n",
                "import pandas as pd\n",
                "\n",
                "\n",
                "\n",
                "# Create fake data\n",
                "N = 10_000\n",
                "clusters = [f\"Cluster {i}\" for i in range(10)]\n",
                "dates = [f\"{date(2022, 1, i):%Y-%m-%d}\" for i in range(1, 15)]\n",
                "df = pd.DataFrame(\n",
                "    {\n",
                "        \"cluster\": np.random.choice(clusters, size=N),\n",
                "        \"date\": np.random.choice(dates, size=N),\n",
                "    }\n",
                ").assign(\n",
                "    # Target is a linear combination of cluster and day of week, plus some noise\n",
                "    cluster_id=lambda df: df[\"cluster\"].astype(\"category\").cat.codes,\n",
                "    day_of_week=lambda df: pd.to_datetime(df[\"date\"]).dt.dayofweek,\n",
                "    target=lambda df: df[\"cluster_id\"] + df[\"day_of_week\"] + np.random.normal(size=N),\n",
                ")\n"
            ]
        },
        {
            "cell_type": "code",
            "execution_count": 2,
            "metadata": {},
            "outputs": [
                {
                    "data": {
                        "text/html": [
                            "<div>\n",
                            "<style scoped>\n",
                            "    .dataframe tbody tr th:only-of-type {\n",
                            "        vertical-align: middle;\n",
                            "    }\n",
                            "\n",
                            "    .dataframe tbody tr th {\n",
                            "        vertical-align: top;\n",
                            "    }\n",
                            "\n",
                            "    .dataframe thead th {\n",
                            "        text-align: right;\n",
                            "    }\n",
                            "</style>\n",
                            "<table border=\"1\" class=\"dataframe\">\n",
                            "  <thead>\n",
                            "    <tr style=\"text-align: right;\">\n",
                            "      <th></th>\n",
                            "      <th>cluster</th>\n",
                            "      <th>date</th>\n",
                            "      <th>cluster_id</th>\n",
                            "      <th>day_of_week</th>\n",
                            "      <th>target</th>\n",
                            "    </tr>\n",
                            "  </thead>\n",
                            "  <tbody>\n",
                            "    <tr>\n",
                            "      <th>0</th>\n",
                            "      <td>Cluster 5</td>\n",
                            "      <td>2022-01-14</td>\n",
                            "      <td>5</td>\n",
                            "      <td>4</td>\n",
                            "      <td>9.204485</td>\n",
                            "    </tr>\n",
                            "    <tr>\n",
                            "      <th>1</th>\n",
                            "      <td>Cluster 7</td>\n",
                            "      <td>2022-01-03</td>\n",
                            "      <td>7</td>\n",
                            "      <td>0</td>\n",
                            "      <td>5.532955</td>\n",
                            "    </tr>\n",
                            "    <tr>\n",
                            "      <th>2</th>\n",
                            "      <td>Cluster 9</td>\n",
                            "      <td>2022-01-10</td>\n",
                            "      <td>9</td>\n",
                            "      <td>0</td>\n",
                            "      <td>8.551213</td>\n",
                            "    </tr>\n",
                            "    <tr>\n",
                            "      <th>3</th>\n",
                            "      <td>Cluster 0</td>\n",
                            "      <td>2022-01-12</td>\n",
                            "      <td>0</td>\n",
                            "      <td>2</td>\n",
                            "      <td>1.910662</td>\n",
                            "    </tr>\n",
                            "    <tr>\n",
                            "      <th>4</th>\n",
                            "      <td>Cluster 5</td>\n",
                            "      <td>2022-01-08</td>\n",
                            "      <td>5</td>\n",
                            "      <td>5</td>\n",
                            "      <td>10.463841</td>\n",
                            "    </tr>\n",
                            "  </tbody>\n",
                            "</table>\n",
                            "</div>"
                        ],
                        "text/plain": [
                            "     cluster        date  cluster_id  day_of_week     target\n",
                            "0  Cluster 5  2022-01-14           5            4   9.204485\n",
                            "1  Cluster 7  2022-01-03           7            0   5.532955\n",
                            "2  Cluster 9  2022-01-10           9            0   8.551213\n",
                            "3  Cluster 0  2022-01-12           0            2   1.910662\n",
                            "4  Cluster 5  2022-01-08           5            5  10.463841"
                        ]
                    },
                    "execution_count": 2,
                    "metadata": {},
                    "output_type": "execute_result"
                }
            ],
            "source": [
                "df.head()"
            ]
        },
        {
            "attachments": {},
            "cell_type": "markdown",
            "metadata": {},
            "source": [
                "Some clusters have a higher average outcome than others"
            ]
        },
        {
            "cell_type": "code",
            "execution_count": 3,
            "metadata": {},
            "outputs": [],
            "source": [
                "cluster_cols = [\"cluster\", \"date\"]\n",
                "\n",
                "splitter = BalancedClusteredSplitter(\n",
                "    cluster_cols=cluster_cols,\n",
                ")\n",
                "\n",
                "perturbator = ConstantPerturbator()\n",
                "\n",
                "analysis = ClusteredOLSAnalysis(\n",
                "    cluster_cols=cluster_cols,\n",
                ")\n",
                "\n",
                "alpha = 0.05\n",
                "n_simulations = 100\n",
                "n_simulations_normal = 10\n",
                "\n",
                "# Simulated power analysis, we use clustered splitter and ols clustered analysis\n",
                "pw_simulated = PowerAnalysis(\n",
                "    splitter=splitter,\n",
                "    perturbator=perturbator,\n",
                "    alpha=alpha,\n",
                "    n_simulations=n_simulations,\n",
                "    analysis=analysis,\n",
                ")\n",
                "\n",
                "# Normal power analysis, uses Central limit theorem to estimate power, and needs less simulations\n",
                "pw_normal = NormalPowerAnalysis(\n",
                "    splitter=splitter,\n",
                "    alpha=alpha,\n",
                "    n_simulations=n_simulations_normal,\n",
                "    analysis=analysis,\n",
                ")\n"
            ]
        },
        {
            "cell_type": "code",
            "execution_count": 4,
            "metadata": {},
            "outputs": [],
            "source": [
                "# power line for simulated\n",
                "effects = [0.25, 0.5, 0.75, 1, 1.25, 1.5, 1.75]\n",
                "pw_simulated_line = pw_simulated.power_line(df, average_effects=effects)"
            ]
        },
        {
            "cell_type": "code",
            "execution_count": 5,
            "metadata": {},
            "outputs": [
                {
                    "data": {
                        "text/plain": [
                            "{0.25: 0.07100559768004645,\n",
                            " 0.5: 0.13627190622233026,\n",
                            " 0.75: 0.24794151532294106,\n",
                            " 1: 0.3986365782510814,\n",
                            " 1.25: 0.5669227113637416,\n",
                            " 1.5: 0.7238074797118612,\n",
                            " 1.75: 0.84610562511809}"
                        ]
                    },
                    "execution_count": 5,
                    "metadata": {},
                    "output_type": "execute_result"
                }
            ],
            "source": [
                "# power line for normal\n",
                "pw_normal_line = pw_normal.power_line(df, average_effects=effects)\n",
                "pw_normal_line"
            ]
        },
        {
            "cell_type": "code",
            "execution_count": 6,
            "metadata": {},
            "outputs": [
                {
                    "data": {
                        "text/plain": [
                            "<AxesSubplot:title={'center':'Power analysis'}, xlabel='Average effect', ylabel='Power'>"
                        ]
                    },
                    "execution_count": 6,
                    "metadata": {},
                    "output_type": "execute_result"
                },
                {
                    "data": {
                        "image/png": "[encoded data removed]",
                        "text/plain": [
                            "<Figure size 432x288 with 1 Axes>"
                        ]
                    },
                    "metadata": {
                        "needs_background": "light"
                    },
                    "output_type": "display_data"
                }
            ],
            "source": [
                "pd.DataFrame(\n",
                "    {\n",
                "        \"Average effect\": effects,\n",
                "        \"Simulated power\": pw_simulated_line.values(),\n",
                "        \"Normal power\": pw_normal_line.values(),\n",
                "    }\n",
                ").plot(\n",
                "    x=\"Average effect\",\n",
                "    y=[\"Simulated power\", \"Normal power\"],\n",
                "    title=\"Power analysis\",\n",
                "    xlabel=\"Average effect\",\n",
                "    ylabel=\"Power\",\n",
                "    marker=\"o\",\n",
                ")"
            ]
        }
    ],
    "metadata": {
        "kernelspec": {
            "display_name": "venv",
            "language": "python",
            "name": "python3"
        },
        "language_info": {
            "codemirror_mode": {
                "name": "ipython",
                "version": 3
            },
            "file_extension": ".py",
            "mimetype": "text/x-python",
            "name": "python",
            "nbconvert_exporter": "python",
            "pygments_lexer": "ipython3",
            "version": "3.8.6"
        },
        "orig_nbformat": 4,
        "vscode": {
            "interpreter": {
                "hash": "29c447d2129f0d56b23b7ba3abc571cfa9d42454e0e2bba301a881797dc4c0e2"
            }
        }
    },
    "nbformat": 4,
    "nbformat_minor": 2
}

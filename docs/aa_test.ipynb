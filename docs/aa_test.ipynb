{
 "cells": [
  {
   "attachments": {},
   "cell_type": "markdown",
   "metadata": {},
   "source": [
    "This notebook shows that, when using a clustered splitter, if the clusters explain a part of the variance, using a non-clustered analysis will lead to higher false positive rate than expected.\n",
    "\n",
    "In particular, we use a clustered splitter and:\n",
    "* An OLS-clustered robust estimator, we see that it passes the AA test\n",
    "* A simple t-test, it fails the AA test as it returns a super high false positive rate"
   ]
  },
  {
   "cell_type": "code",
   "execution_count": 1,
   "metadata": {},
   "outputs": [],
   "source": [
    "from datetime import date\n",
    "\n",
    "import numpy as np\n",
    "import pandas as pd\n",
    "from cluster_experiments import PowerAnalysis, UniformPerturbator, BalancedClusteredSplitter, ExperimentAnalysis\n",
    "import pandas as pd\n",
    "from scipy.stats import ttest_ind\n",
    "\n",
    "\n",
    "# Create fake data\n",
    "N = 10_000\n",
    "clusters = [f\"Cluster {i}\" for i in range(10)]\n",
    "dates = [f\"{date(2022, 1, i):%Y-%m-%d}\" for i in range(1, 15)]\n",
    "df = pd.DataFrame(\n",
    "    {\n",
    "        \"cluster\": np.random.choice(clusters, size=N),\n",
    "        \"date\": np.random.choice(dates, size=N),\n",
    "    }\n",
    ").assign(\n",
    "    # Target is a linear combination of cluster and day of week, plus some noise\n",
    "    cluster_id=lambda df: df[\"cluster\"].astype(\"category\").cat.codes,\n",
    "    day_of_week=lambda df: pd.to_datetime(df[\"date\"]).dt.dayofweek,\n",
    "    target=lambda df: df[\"cluster_id\"] + df[\"day_of_week\"] + np.random.normal(size=N),\n",
    ")\n"
   ]
  },
  {
   "cell_type": "code",
   "execution_count": 2,
   "metadata": {},
   "outputs": [
    {
     "data": {
      "text/html": [
       "<div>\n",
       "<style scoped>\n",
       "    .dataframe tbody tr th:only-of-type {\n",
       "        vertical-align: middle;\n",
       "    }\n",
       "\n",
       "    .dataframe tbody tr th {\n",
       "        vertical-align: top;\n",
       "    }\n",
       "\n",
       "    .dataframe thead th {\n",
       "        text-align: right;\n",
       "    }\n",
       "</style>\n",
       "<table border=\"1\" class=\"dataframe\">\n",
       "  <thead>\n",
       "    <tr style=\"text-align: right;\">\n",
       "      <th></th>\n",
       "      <th>cluster</th>\n",
       "      <th>date</th>\n",
       "      <th>cluster_id</th>\n",
       "      <th>day_of_week</th>\n",
       "      <th>target</th>\n",
       "    </tr>\n",
       "  </thead>\n",
       "  <tbody>\n",
       "    <tr>\n",
       "      <th>0</th>\n",
       "      <td>Cluster 6</td>\n",
       "      <td>2022-01-10</td>\n",
       "      <td>6</td>\n",
       "      <td>0</td>\n",
       "      <td>6.771333</td>\n",
       "    </tr>\n",
       "    <tr>\n",
       "      <th>1</th>\n",
       "      <td>Cluster 1</td>\n",
       "      <td>2022-01-13</td>\n",
       "      <td>1</td>\n",
       "      <td>3</td>\n",
       "      <td>4.265339</td>\n",
       "    </tr>\n",
       "    <tr>\n",
       "      <th>2</th>\n",
       "      <td>Cluster 6</td>\n",
       "      <td>2022-01-12</td>\n",
       "      <td>6</td>\n",
       "      <td>2</td>\n",
       "      <td>7.634346</td>\n",
       "    </tr>\n",
       "    <tr>\n",
       "      <th>3</th>\n",
       "      <td>Cluster 0</td>\n",
       "      <td>2022-01-11</td>\n",
       "      <td>0</td>\n",
       "      <td>1</td>\n",
       "      <td>0.390531</td>\n",
       "    </tr>\n",
       "    <tr>\n",
       "      <th>4</th>\n",
       "      <td>Cluster 4</td>\n",
       "      <td>2022-01-08</td>\n",
       "      <td>4</td>\n",
       "      <td>5</td>\n",
       "      <td>9.441262</td>\n",
       "    </tr>\n",
       "  </tbody>\n",
       "</table>\n",
       "</div>"
      ],
      "text/plain": [
       "     cluster        date  cluster_id  day_of_week    target\n",
       "0  Cluster 6  2022-01-10           6            0  6.771333\n",
       "1  Cluster 1  2022-01-13           1            3  4.265339\n",
       "2  Cluster 6  2022-01-12           6            2  7.634346\n",
       "3  Cluster 0  2022-01-11           0            1  0.390531\n",
       "4  Cluster 4  2022-01-08           4            5  9.441262"
      ]
     },
     "execution_count": 2,
     "metadata": {},
     "output_type": "execute_result"
    }
   ],
   "source": [
    "df.head()"
   ]
  },
  {
   "attachments": {},
   "cell_type": "markdown",
   "metadata": {},
   "source": [
    "Some clusters have a higher average outcome than others"
   ]
  },
  {
   "cell_type": "code",
   "execution_count": 3,
   "metadata": {},
   "outputs": [
    {
     "data": {
      "text/html": [
       "<div>\n",
       "<style scoped>\n",
       "    .dataframe tbody tr th:only-of-type {\n",
       "        vertical-align: middle;\n",
       "    }\n",
       "\n",
       "    .dataframe tbody tr th {\n",
       "        vertical-align: top;\n",
       "    }\n",
       "\n",
       "    .dataframe thead tr th {\n",
       "        text-align: left;\n",
       "    }\n",
       "\n",
       "    .dataframe thead tr:last-of-type th {\n",
       "        text-align: right;\n",
       "    }\n",
       "</style>\n",
       "<table border=\"1\" class=\"dataframe\">\n",
       "  <thead>\n",
       "    <tr>\n",
       "      <th></th>\n",
       "      <th colspan=\"2\" halign=\"left\">target</th>\n",
       "    </tr>\n",
       "    <tr>\n",
       "      <th></th>\n",
       "      <th>mean</th>\n",
       "      <th>std</th>\n",
       "    </tr>\n",
       "    <tr>\n",
       "      <th>cluster</th>\n",
       "      <th></th>\n",
       "      <th></th>\n",
       "    </tr>\n",
       "  </thead>\n",
       "  <tbody>\n",
       "    <tr>\n",
       "      <th>Cluster 0</th>\n",
       "      <td>3.027824</td>\n",
       "      <td>2.190903</td>\n",
       "    </tr>\n",
       "    <tr>\n",
       "      <th>Cluster 1</th>\n",
       "      <td>4.108050</td>\n",
       "      <td>2.237088</td>\n",
       "    </tr>\n",
       "    <tr>\n",
       "      <th>Cluster 2</th>\n",
       "      <td>5.052269</td>\n",
       "      <td>2.236289</td>\n",
       "    </tr>\n",
       "    <tr>\n",
       "      <th>Cluster 3</th>\n",
       "      <td>5.950557</td>\n",
       "      <td>2.219626</td>\n",
       "    </tr>\n",
       "    <tr>\n",
       "      <th>Cluster 4</th>\n",
       "      <td>7.041812</td>\n",
       "      <td>2.259418</td>\n",
       "    </tr>\n",
       "    <tr>\n",
       "      <th>Cluster 5</th>\n",
       "      <td>7.969491</td>\n",
       "      <td>2.223511</td>\n",
       "    </tr>\n",
       "    <tr>\n",
       "      <th>Cluster 6</th>\n",
       "      <td>9.094057</td>\n",
       "      <td>2.257794</td>\n",
       "    </tr>\n",
       "    <tr>\n",
       "      <th>Cluster 7</th>\n",
       "      <td>9.983032</td>\n",
       "      <td>2.240358</td>\n",
       "    </tr>\n",
       "    <tr>\n",
       "      <th>Cluster 8</th>\n",
       "      <td>10.960362</td>\n",
       "      <td>2.224778</td>\n",
       "    </tr>\n",
       "    <tr>\n",
       "      <th>Cluster 9</th>\n",
       "      <td>11.982331</td>\n",
       "      <td>2.254029</td>\n",
       "    </tr>\n",
       "  </tbody>\n",
       "</table>\n",
       "</div>"
      ],
      "text/plain": [
       "              target          \n",
       "                mean       std\n",
       "cluster                       \n",
       "Cluster 0   3.027824  2.190903\n",
       "Cluster 1   4.108050  2.237088\n",
       "Cluster 2   5.052269  2.236289\n",
       "Cluster 3   5.950557  2.219626\n",
       "Cluster 4   7.041812  2.259418\n",
       "Cluster 5   7.969491  2.223511\n",
       "Cluster 6   9.094057  2.257794\n",
       "Cluster 7   9.983032  2.240358\n",
       "Cluster 8  10.960362  2.224778\n",
       "Cluster 9  11.982331  2.254029"
      ]
     },
     "execution_count": 3,
     "metadata": {},
     "output_type": "execute_result"
    }
   ],
   "source": [
    "df.groupby(\"cluster\").agg({\"target\": [\"mean\", \"std\"]})"
   ]
  },
  {
   "cell_type": "code",
   "execution_count": 4,
   "metadata": {},
   "outputs": [],
   "source": [
    "# Simple t-test to run the analysis\n",
    "class TTestAnalysis(ExperimentAnalysis):\n",
    "    def analysis_pvalue(self, df: pd.DataFrame, verbose: bool = True) -> float:\n",
    "        treatment_data = df.query(f\"{self.treatment_col} == 1\")[self.target_col]\n",
    "        control_data = df.query(f\"{self.treatment_col} == 0\")[self.target_col]\n",
    "        t_test_results = ttest_ind(treatment_data, control_data, equal_var=False)\n",
    "        return t_test_results.pvalue"
   ]
  },
  {
   "cell_type": "code",
   "execution_count": 5,
   "metadata": {},
   "outputs": [],
   "source": [
    "cluster_cols = [\"cluster\", \"date\"]\n",
    "\n",
    "# Right power analysis, we use clustered splitter and ols clustered analysis\n",
    "pw_right = PowerAnalysis.from_dict(\n",
    "    {\n",
    "        \"splitter\": \"clustered_balance\",\n",
    "        \"perturbator\": \"uniform\",\n",
    "        \"analysis\": \"ols_clustered\",\n",
    "        \"cluster_cols\": cluster_cols,\n",
    "        \"alpha\": 0.05,\n",
    "    },\n",
    ")\n",
    "\n",
    "# Wrong power analysis, we use clustered splitter and regular t-test\n",
    "pw_wrong = PowerAnalysis(\n",
    "    splitter=BalancedClusteredSplitter(\n",
    "        cluster_cols=cluster_cols,\n",
    "    ),\n",
    "    perturbator=UniformPerturbator(),\n",
    "    analysis=TTestAnalysis(\n",
    "        # We pass cluster_cols here, but we don't use them!!!\n",
    "        cluster_cols=cluster_cols,\n",
    "    ),\n",
    "    alpha=0.05,\n",
    ")\n",
    "\n"
   ]
  },
  {
   "attachments": {},
   "cell_type": "markdown",
   "metadata": {},
   "source": [
    "Right way of doing it: in the AA test we get a power similar to the type I error of the test"
   ]
  },
  {
   "cell_type": "code",
   "execution_count": 6,
   "metadata": {},
   "outputs": [
    {
     "data": {
      "text/plain": [
       "0.01"
      ]
     },
     "execution_count": 6,
     "metadata": {},
     "output_type": "execute_result"
    }
   ],
   "source": [
    "pw_right.power_analysis(df, average_effect=0.0)"
   ]
  },
  {
   "attachments": {},
   "cell_type": "markdown",
   "metadata": {},
   "source": [
    "Wrong way of doing it: the AA test fails, we have too much power"
   ]
  },
  {
   "cell_type": "code",
   "execution_count": 7,
   "metadata": {},
   "outputs": [
    {
     "data": {
      "text/plain": [
       "0.84"
      ]
     },
     "execution_count": 7,
     "metadata": {},
     "output_type": "execute_result"
    }
   ],
   "source": [
    "pw_wrong.power_analysis(df, average_effect=0.0)"
   ]
  }
 ],
 "metadata": {
  "kernelspec": {
   "display_name": "venv",
   "language": "python",
   "name": "python3"
  },
  "language_info": {
   "codemirror_mode": {
    "name": "ipython",
    "version": 3
   },
   "file_extension": ".py",
   "mimetype": "text/x-python",
   "name": "python",
   "nbconvert_exporter": "python",
   "pygments_lexer": "ipython3",
   "version": "3.8.6"
  },
  "orig_nbformat": 4,
  "vscode": {
   "interpreter": {
    "hash": "29c447d2129f0d56b23b7ba3abc571cfa9d42454e0e2bba301a881797dc4c0e2"
   }
  }
 },
 "nbformat": 4,
 "nbformat_minor": 2
}

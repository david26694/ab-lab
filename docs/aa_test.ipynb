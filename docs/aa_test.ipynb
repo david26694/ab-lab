{
    "cells": [
        {
            "attachments": {},
            "cell_type": "markdown",
            "metadata": {},
            "source": [
                "This notebook shows that, when using a clustered splitter, if the clusters explain a part of the variance, using a non-clustered analysis will lead to higher false positive rate than expected.\n",
                "\n",
                "In particular, we use a clustered splitter and:\n",
                "* An OLS-clustered robust estimator, we see that it passes the AA test\n",
                "* A simple OLS (without clustered standard errors), it fails the AA test as it returns a super high false positive rate"
            ]
        },
        {
            "cell_type": "code",
            "execution_count": 1,
            "metadata": {},
            "outputs": [],
            "source": [
                "from datetime import date\n",
                "\n",
                "import numpy as np\n",
                "from cluster_experiments import PowerAnalysis, ConstantPerturbator, BalancedClusteredSplitter, ExperimentAnalysis, ClusteredOLSAnalysis\n",
                "import pandas as pd\n",
                "import statsmodels.api as sm\n",
                "\n",
                "\n",
                "\n",
                "# Create fake data\n",
                "N = 10_000\n",
                "clusters = [f\"Cluster {i}\" for i in range(10)]\n",
                "dates = [f\"{date(2022, 1, i):%Y-%m-%d}\" for i in range(1, 15)]\n",
                "df = pd.DataFrame(\n",
                "    {\n",
                "        \"cluster\": np.random.choice(clusters, size=N),\n",
                "        \"date\": np.random.choice(dates, size=N),\n",
                "    }\n",
                ").assign(\n",
                "    # Target is a linear combination of cluster and day of week, plus some noise\n",
                "    cluster_id=lambda df: df[\"cluster\"].astype(\"category\").cat.codes,\n",
                "    day_of_week=lambda df: pd.to_datetime(df[\"date\"]).dt.dayofweek,\n",
                "    target=lambda df: df[\"cluster_id\"] + df[\"day_of_week\"] + np.random.normal(size=N),\n",
                ")\n"
            ]
        },
        {
            "cell_type": "code",
            "execution_count": 2,
            "metadata": {},
            "outputs": [
                {
                    "data": {
                        "text/html": [
                            "<div>\n",
                            "<style scoped>\n",
                            "    .dataframe tbody tr th:only-of-type {\n",
                            "        vertical-align: middle;\n",
                            "    }\n",
                            "\n",
                            "    .dataframe tbody tr th {\n",
                            "        vertical-align: top;\n",
                            "    }\n",
                            "\n",
                            "    .dataframe thead th {\n",
                            "        text-align: right;\n",
                            "    }\n",
                            "</style>\n",
                            "<table border=\"1\" class=\"dataframe\">\n",
                            "  <thead>\n",
                            "    <tr style=\"text-align: right;\">\n",
                            "      <th></th>\n",
                            "      <th>cluster</th>\n",
                            "      <th>date</th>\n",
                            "      <th>cluster_id</th>\n",
                            "      <th>day_of_week</th>\n",
                            "      <th>target</th>\n",
                            "    </tr>\n",
                            "  </thead>\n",
                            "  <tbody>\n",
                            "    <tr>\n",
                            "      <th>0</th>\n",
                            "      <td>Cluster 3</td>\n",
                            "      <td>2022-01-08</td>\n",
                            "      <td>3</td>\n",
                            "      <td>5</td>\n",
                            "      <td>7.534487</td>\n",
                            "    </tr>\n",
                            "    <tr>\n",
                            "      <th>1</th>\n",
                            "      <td>Cluster 2</td>\n",
                            "      <td>2022-01-06</td>\n",
                            "      <td>2</td>\n",
                            "      <td>3</td>\n",
                            "      <td>5.039041</td>\n",
                            "    </tr>\n",
                            "    <tr>\n",
                            "      <th>2</th>\n",
                            "      <td>Cluster 1</td>\n",
                            "      <td>2022-01-14</td>\n",
                            "      <td>1</td>\n",
                            "      <td>4</td>\n",
                            "      <td>5.341845</td>\n",
                            "    </tr>\n",
                            "    <tr>\n",
                            "      <th>3</th>\n",
                            "      <td>Cluster 7</td>\n",
                            "      <td>2022-01-12</td>\n",
                            "      <td>7</td>\n",
                            "      <td>2</td>\n",
                            "      <td>9.468617</td>\n",
                            "    </tr>\n",
                            "    <tr>\n",
                            "      <th>4</th>\n",
                            "      <td>Cluster 0</td>\n",
                            "      <td>2022-01-10</td>\n",
                            "      <td>0</td>\n",
                            "      <td>0</td>\n",
                            "      <td>-0.644678</td>\n",
                            "    </tr>\n",
                            "  </tbody>\n",
                            "</table>\n",
                            "</div>"
                        ],
                        "text/plain": [
                            "     cluster        date  cluster_id  day_of_week    target\n",
                            "0  Cluster 3  2022-01-08           3            5  7.534487\n",
                            "1  Cluster 2  2022-01-06           2            3  5.039041\n",
                            "2  Cluster 1  2022-01-14           1            4  5.341845\n",
                            "3  Cluster 7  2022-01-12           7            2  9.468617\n",
                            "4  Cluster 0  2022-01-10           0            0 -0.644678"
                        ]
                    },
                    "execution_count": 2,
                    "metadata": {},
                    "output_type": "execute_result"
                }
            ],
            "source": [
                "df.head()"
            ]
        },
        {
            "attachments": {},
            "cell_type": "markdown",
            "metadata": {},
            "source": [
                "Some clusters have a higher average outcome than others"
            ]
        },
        {
            "cell_type": "code",
            "execution_count": 3,
            "metadata": {},
            "outputs": [
                {
                    "data": {
                        "text/html": [
                            "<div>\n",
                            "<style scoped>\n",
                            "    .dataframe tbody tr th:only-of-type {\n",
                            "        vertical-align: middle;\n",
                            "    }\n",
                            "\n",
                            "    .dataframe tbody tr th {\n",
                            "        vertical-align: top;\n",
                            "    }\n",
                            "\n",
                            "    .dataframe thead tr th {\n",
                            "        text-align: left;\n",
                            "    }\n",
                            "\n",
                            "    .dataframe thead tr:last-of-type th {\n",
                            "        text-align: right;\n",
                            "    }\n",
                            "</style>\n",
                            "<table border=\"1\" class=\"dataframe\">\n",
                            "  <thead>\n",
                            "    <tr>\n",
                            "      <th></th>\n",
                            "      <th colspan=\"2\" halign=\"left\">target</th>\n",
                            "    </tr>\n",
                            "    <tr>\n",
                            "      <th></th>\n",
                            "      <th>mean</th>\n",
                            "      <th>std</th>\n",
                            "    </tr>\n",
                            "    <tr>\n",
                            "      <th>cluster</th>\n",
                            "      <th></th>\n",
                            "      <th></th>\n",
                            "    </tr>\n",
                            "  </thead>\n",
                            "  <tbody>\n",
                            "    <tr>\n",
                            "      <th>Cluster 0</th>\n",
                            "      <td>3.027335</td>\n",
                            "      <td>2.223308</td>\n",
                            "    </tr>\n",
                            "    <tr>\n",
                            "      <th>Cluster 1</th>\n",
                            "      <td>3.907833</td>\n",
                            "      <td>2.211297</td>\n",
                            "    </tr>\n",
                            "    <tr>\n",
                            "      <th>Cluster 2</th>\n",
                            "      <td>4.895215</td>\n",
                            "      <td>2.270596</td>\n",
                            "    </tr>\n",
                            "    <tr>\n",
                            "      <th>Cluster 3</th>\n",
                            "      <td>6.045043</td>\n",
                            "      <td>2.269786</td>\n",
                            "    </tr>\n",
                            "    <tr>\n",
                            "      <th>Cluster 4</th>\n",
                            "      <td>6.902209</td>\n",
                            "      <td>2.224554</td>\n",
                            "    </tr>\n",
                            "    <tr>\n",
                            "      <th>Cluster 5</th>\n",
                            "      <td>8.028794</td>\n",
                            "      <td>2.313159</td>\n",
                            "    </tr>\n",
                            "    <tr>\n",
                            "      <th>Cluster 6</th>\n",
                            "      <td>9.046213</td>\n",
                            "      <td>2.253462</td>\n",
                            "    </tr>\n",
                            "    <tr>\n",
                            "      <th>Cluster 7</th>\n",
                            "      <td>10.055748</td>\n",
                            "      <td>2.226720</td>\n",
                            "    </tr>\n",
                            "    <tr>\n",
                            "      <th>Cluster 8</th>\n",
                            "      <td>11.048716</td>\n",
                            "      <td>2.273583</td>\n",
                            "    </tr>\n",
                            "    <tr>\n",
                            "      <th>Cluster 9</th>\n",
                            "      <td>11.939075</td>\n",
                            "      <td>2.216478</td>\n",
                            "    </tr>\n",
                            "  </tbody>\n",
                            "</table>\n",
                            "</div>"
                        ],
                        "text/plain": [
                            "              target          \n",
                            "                mean       std\n",
                            "cluster                       \n",
                            "Cluster 0   3.027335  2.223308\n",
                            "Cluster 1   3.907833  2.211297\n",
                            "Cluster 2   4.895215  2.270596\n",
                            "Cluster 3   6.045043  2.269786\n",
                            "Cluster 4   6.902209  2.224554\n",
                            "Cluster 5   8.028794  2.313159\n",
                            "Cluster 6   9.046213  2.253462\n",
                            "Cluster 7  10.055748  2.226720\n",
                            "Cluster 8  11.048716  2.273583\n",
                            "Cluster 9  11.939075  2.216478"
                        ]
                    },
                    "execution_count": 3,
                    "metadata": {},
                    "output_type": "execute_result"
                }
            ],
            "source": [
                "df.groupby(\"cluster\").agg({\"target\": [\"mean\", \"std\"]})"
            ]
        },
        {
            "cell_type": "code",
            "execution_count": 4,
            "metadata": {},
            "outputs": [],
            "source": [
                "# Simple ols to run the analysis\n",
                "class NonClusteredOLS(ExperimentAnalysis):\n",
                "    def analysis_pvalue(self, df: pd.DataFrame, verbose: bool = False) -> float:\n",
                "        \"\"\"Returns the p-value of the analysis\n",
                "        Arguments:\n",
                "            df: dataframe containing the data to analyze\n",
                "            verbose (Optional): bool, prints the regression summary if True\n",
                "        \"\"\"\n",
                "        results_ols = sm.OLS.from_formula(\"target ~ treatment\", data=df).fit()\n",
                "        return results_ols.pvalues[self.treatment_col]\n",
                "\n"
            ]
        },
        {
            "cell_type": "code",
            "execution_count": 5,
            "metadata": {},
            "outputs": [],
            "source": [
                "cluster_cols = [\"cluster\", \"date\"]\n",
                "\n",
                "splitter = BalancedClusteredSplitter(\n",
                "    cluster_cols=cluster_cols,\n",
                ")\n",
                "\n",
                "perturbator = ConstantPerturbator()\n",
                "\n",
                "alpha = 0.05\n",
                "n_simulations = 100\n",
                "\n",
                "# Right power analysis, we use clustered splitter and ols clustered analysis\n",
                "pw_right = PowerAnalysis(\n",
                "    splitter=splitter,\n",
                "    perturbator=perturbator,\n",
                "    alpha=alpha,\n",
                "    n_simulations=n_simulations,\n",
                "    analysis=ClusteredOLSAnalysis(\n",
                "        cluster_cols=cluster_cols,\n",
                "    ),\n",
                ")\n",
                "\n",
                "# Wrong power analysis, we use clustered splitter and regular ols\n",
                "pw_wrong = PowerAnalysis(\n",
                "    splitter=splitter,\n",
                "    perturbator=perturbator,\n",
                "    alpha=alpha,\n",
                "    n_simulations=n_simulations,\n",
                "    analysis=NonClusteredOLS(\n",
                "        # We pass cluster_cols here, but we don't use them!!!\n",
                "        cluster_cols=cluster_cols,\n",
                "    ),\n",
                ")\n",
                "\n"
            ]
        },
        {
            "attachments": {},
            "cell_type": "markdown",
            "metadata": {},
            "source": [
                "Right way of doing it: in the AA test we get a power similar to the type I error of the test"
            ]
        },
        {
            "cell_type": "code",
            "execution_count": 6,
            "metadata": {},
            "outputs": [
                {
                    "data": {
                        "text/plain": [
                            "0.06"
                        ]
                    },
                    "execution_count": 6,
                    "metadata": {},
                    "output_type": "execute_result"
                }
            ],
            "source": [
                "pw_right.power_analysis(df, average_effect=0.0)"
            ]
        },
        {
            "attachments": {},
            "cell_type": "markdown",
            "metadata": {},
            "source": [
                "Wrong way of doing it: the AA test fails, we have too much power"
            ]
        },
        {
            "cell_type": "code",
            "execution_count": 7,
            "metadata": {},
            "outputs": [
                {
                    "data": {
                        "text/plain": [
                            "0.79"
                        ]
                    },
                    "execution_count": 7,
                    "metadata": {},
                    "output_type": "execute_result"
                }
            ],
            "source": [
                "pw_wrong.power_analysis(df, average_effect=0.0)"
            ]
        }
    ],
    "metadata": {
        "kernelspec": {
            "display_name": "venv",
            "language": "python",
            "name": "python3"
        },
        "language_info": {
            "codemirror_mode": {
                "name": "ipython",
                "version": 3
            },
            "file_extension": ".py",
            "mimetype": "text/x-python",
            "name": "python",
            "nbconvert_exporter": "python",
            "pygments_lexer": "ipython3",
            "version": "3.8.6"
        },
        "orig_nbformat": 4,
        "vscode": {
            "interpreter": {
                "hash": "29c447d2129f0d56b23b7ba3abc571cfa9d42454e0e2bba301a881797dc4c0e2"
            }
        }
    },
    "nbformat": 4,
    "nbformat_minor": 2
}

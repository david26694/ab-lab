{
 "cells": [
  {
   "cell_type": "markdown",
   "metadata": {},
   "source": [
    "## Delta Method Analysis Tutorial\n",
    "This notebook shows how the DeltaMethodAnalysis class is performing the Delta Method for a simple ratio metric. In this case the cluster column is going to be at user level for the current example.\n",
    "\n",
    "We also compare the usage of CUPED in tandem with the Delta Method as a way to reduce variance.\n"
   ]
  },
  {
   "cell_type": "code",
   "execution_count": 1,
   "metadata": {
    "pycharm": {
     "name": "#%%\n"
    }
   },
   "outputs": [],
   "source": [
    "import numpy as np\n",
    "import pandas as pd\n",
    "\n",
    "\n",
    "from cluster_experiments.experiment_analysis import DeltaMethodAnalysis\n",
    "from scipy.stats import norm"
   ]
  },
  {
   "cell_type": "code",
   "execution_count": 2,
   "metadata": {},
   "outputs": [],
   "source": [
    "def generate_ratio_metric_data(\n",
    "    N,\n",
    "    num_users=2000,\n",
    "    user_sample_mean=0.3,\n",
    "    user_standard_error=0.15,\n",
    "    treatment_effect=0.1,\n",
    ") -> pd.DataFrame:\n",
    "\n",
    "    user_sessions = np.random.choice(num_users, N)\n",
    "    user_target_means = np.random.normal(\n",
    "        user_sample_mean, user_standard_error, num_users\n",
    "    )\n",
    "    # assign treatment groups\n",
    "    treatment = np.random.choice([0, 1], num_users)\n",
    "\n",
    "    # create target rate per session level\n",
    "    target_percent_per_session = (\n",
    "        treatment_effect * treatment[user_sessions]\n",
    "        + user_target_means[user_sessions]\n",
    "        + np.random.normal(0, 0.01, N)\n",
    "    )\n",
    "\n",
    "    # Remove <0 or >1\n",
    "    target_percent_per_session[target_percent_per_session > 1] = 1\n",
    "    target_percent_per_session[target_percent_per_session < 0] = 0\n",
    "\n",
    "    targets_observed = np.random.binomial(1, target_percent_per_session)\n",
    "\n",
    "    # rename treatment array 0-->A, 1-->B\n",
    "    mapped_treatment = np.where(treatment == 0, \"A\", \"B\")\n",
    "\n",
    "    return pd.DataFrame(\n",
    "        {\n",
    "            \"user\": user_sessions,\n",
    "            \"treatment\": mapped_treatment[user_sessions],\n",
    "            \"target\": targets_observed,\n",
    "            \"scale\": np.ones_like(user_sessions),\n",
    "        }\n",
    "    )"
   ]
  },
  {
   "cell_type": "code",
   "execution_count": 3,
   "metadata": {},
   "outputs": [],
   "source": [
    "def compare_vanilla_cuped(N, num_users=2000, user_sample_mean=0.3, user_standard_error=0.5, treatment_effect=0.1):\n",
    "    #data generation\n",
    "    pre_data = generate_ratio_metric_data(N, num_users, user_sample_mean, user_standard_error, treatment_effect=0)\n",
    "    post_data = generate_ratio_metric_data(N, num_users, user_sample_mean, user_standard_error, treatment_effect)\n",
    "    \n",
    "\n",
    "    pre_data['date']= pd.to_datetime('2022-01-01')\n",
    "    post_data['date']= pd.to_datetime('2022-01-02')\n",
    "\n",
    "    data = pd.concat([pre_data, post_data])\n",
    "    analysis_vanilla = DeltaMethodAnalysis(\n",
    "        cluster_cols=[\"user\"]\n",
    "    )\n",
    "    vanilla_pval = analysis_vanilla.get_pvalue(post_data)\n",
    "\n",
    "    analysis_cuped = DeltaMethodAnalysis(\n",
    "        cluster_cols=[\"user\"], cuped_time_split=(\"date\", post_data['date'].min())\n",
    "    )\n",
    "    cuped_pval = analysis_cuped.get_pvalue(data)\n",
    "\n",
    "    #naive t-test\n",
    "    post_data= post_data.groupby(['user', 'treatment']).agg({'target':'sum', 'scale':'sum'}).reset_index()\n",
    "    post_data['metric']  = post_data['target']/post_data['scale']\n",
    "    stats = post_data.groupby('treatment').agg(\n",
    "        mean = ('metric', 'mean'),\n",
    "        var = ('metric', 'var'),\n",
    "        num_samples = ('scale', 'sum')\n",
    "        )\n",
    "\n",
    "    mean_dif = stats.loc['A', 'mean'] - stats.loc['B', 'mean']\n",
    "    var_dif = stats.loc['A', 'var']/stats.loc['A', 'num_samples'] + stats.loc['B', 'var']/stats.loc['B', 'num_samples']\n",
    "    z_score = mean_dif/np.sqrt(var_dif)\n",
    "    naive_pval = 2 * (1 - norm.cdf(abs(z_score)))\n",
    "\n",
    "    return vanilla_pval, cuped_pval, naive_pval"
   ]
  },
  {
   "cell_type": "markdown",
   "metadata": {},
   "source": [
    "### Comparison\n",
    "\n",
    "Here we compare the naive t-test estimation vs the Delta Method with and without CUPED"
   ]
  },
  {
   "cell_type": "code",
   "execution_count": 4,
   "metadata": {
    "pycharm": {
     "name": "#%%\n"
    }
   },
   "outputs": [
    {
     "name": "stdout",
     "output_type": "stream",
     "text": [
      "Naive p-value: 3.992187913581802e-11\n",
      "Vanilla p-value: 0.020746084288781594\n",
      "CUPED p-value: 0.019287884190794198\n"
     ]
    }
   ],
   "source": [
    "# Let's generate some fake switchback data (the clusters here would be city and date\n",
    "N = 200_000\n",
    "\n",
    "vanilla_p_values = []\n",
    "cuped_p_values = []\n",
    "naive_p_values = []\n",
    "for _ in range(100):\n",
    "    vanilla, cuped, naive = compare_vanilla_cuped(N, num_users = 5_000, treatment_effect= 0.05)\n",
    "    vanilla_p_values.append(vanilla)\n",
    "    cuped_p_values.append(cuped)\n",
    "    naive_p_values.append(naive)\n",
    "\n",
    "print(f\"Naive p-value: {np.mean(naive_p_values)}\")\n",
    "print(f\"Vanilla p-value: {np.mean(vanilla_p_values)}\")\n",
    "print(f\"CUPED p-value: {np.mean(cuped_p_values)}\")"
   ]
  },
  {
   "cell_type": "markdown",
   "metadata": {},
   "source": [
    "It is known that Naive t-test will have a smaller estimation of the variance, increasing the false positive rate"
   ]
  },
  {
   "cell_type": "markdown",
   "metadata": {},
   "source": [
    "### A-A test for validation"
   ]
  },
  {
   "cell_type": "code",
   "execution_count": 5,
   "metadata": {},
   "outputs": [
    {
     "name": "stdout",
     "output_type": "stream",
     "text": [
      "Naive p-value: 0.10592464218673368\n",
      "Vanilla p-value: 0.500648753224461\n",
      "CUPED p-value: 0.5036899545199222\n"
     ]
    }
   ],
   "source": [
    "# Let's generate some fake switchback data (the clusters here would be city and date\n",
    "N = 200_000\n",
    "\n",
    "vanilla_p_values = []\n",
    "cuped_p_values = []\n",
    "naive_p_values = []\n",
    "for _ in range(1000):\n",
    "    vanilla, cuped, naive = compare_vanilla_cuped(N, num_users = 5_000, treatment_effect= 0)\n",
    "    vanilla_p_values.append(vanilla)\n",
    "    cuped_p_values.append(cuped)\n",
    "    naive_p_values.append(naive)\n",
    "\n",
    "print(f\"Naive p-value: {np.mean(naive_p_values)}\")\n",
    "print(f\"Vanilla p-value: {np.mean(vanilla_p_values)}\")\n",
    "print(f\"CUPED p-value: {np.mean(cuped_p_values)}\")"
   ]
  },
  {
   "cell_type": "code",
   "execution_count": 6,
   "metadata": {},
   "outputs": [
    {
     "name": "stdout",
     "output_type": "stream",
     "text": [
      "Naive false positives rate: 0.748\n",
      "Vanilla false positives rate: 0.061\n",
      "CUPED false positives rate: 0.054\n"
     ]
    }
   ],
   "source": [
    "positives_vanilla = sum([pval< 0.05 for pval in vanilla_p_values])\n",
    "positives_cuped = sum([pval< 0.05 for pval in cuped_p_values])\n",
    "positives_ttest = sum([pval< 0.05 for pval in naive_p_values])\n",
    "\n",
    "print(f\"Naive false positives rate: {positives_ttest/len(naive_p_values)}\")\n",
    "print(f\"Vanilla false positives rate: {positives_vanilla/len(vanilla_p_values)}\")\n",
    "print(f\"CUPED false positives rate: {positives_cuped/len(cuped_p_values)}\")"
   ]
  },
  {
   "cell_type": "markdown",
   "metadata": {},
   "source": [
    "We can see that indeed if we are not using the Delta Method the False Positive rate might increase significantly due to the underestimation on the metric's variance"
   ]
  }
 ],
 "metadata": {
  "kernelspec": {
   "display_name": "venv",
   "language": "python",
   "name": "python3"
  },
  "language_info": {
   "codemirror_mode": {
    "name": "ipython",
    "version": 3
   },
   "file_extension": ".py",
   "mimetype": "text/x-python",
   "name": "python",
   "nbconvert_exporter": "python",
   "pygments_lexer": "ipython3",
   "version": "3.10.14"
  }
 },
 "nbformat": 4,
 "nbformat_minor": 1
}

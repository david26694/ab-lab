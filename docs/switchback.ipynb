{
 "cells": [
  {
   "attachments": {},
   "cell_type": "markdown",
   "metadata": {},
   "source": [
    "This notebook shows how to use the switchback module. In particular, it shows how to create a PowerAnalysis object with a switchback splitter, using a time column and 30 min splits.\n",
    "\n",
    "It uses the splitter of the PowerAnalysis object to simulate the treatment assignment, and shows how the stratification of the clusters works.\n",
    "\n",
    "In the end, it also shows how to run the power analysis."
   ]
  },
  {
   "cell_type": "code",
   "execution_count": 1,
   "metadata": {},
   "outputs": [],
   "source": [
    "from cluster_experiments import PowerAnalysis\n",
    "import pandas as pd\n",
    "import numpy as np\n",
    "\n",
    "np.random.seed(42)"
   ]
  },
  {
   "cell_type": "code",
   "execution_count": 2,
   "metadata": {},
   "outputs": [],
   "source": [
    "# Define bihourly switchback splitter\n",
    "config = {\n",
    "    \"time_col\": \"time\",\n",
    "    \"switch_frequency\": \"30min\",\n",
    "    \"perturbator\": \"uniform\",\n",
    "    \"analysis\": \"ols_clustered\",\n",
    "    \"splitter\": \"switchback_stratified\",\n",
    "    \"cluster_cols\": [\"time\", \"city\"],\n",
    "    \"strata_cols\": [\"day_of_week\", \"hour_of_day\", \"city\"],\n",
    "    \"target_col\": \"y\",\n",
    "}\n",
    "\n",
    "power = PowerAnalysis.from_dict(config)"
   ]
  },
  {
   "cell_type": "code",
   "execution_count": 3,
   "metadata": {},
   "outputs": [],
   "source": [
    "# Define data with random dates\n",
    "df_raw = pd.DataFrame(\n",
    "    {   \n",
    "        # Generate 10k random timestamps from 2021-01-01 to 2021-01-10\n",
    "        \"time\": pd.date_range(\"2021-01-01\", \"2021-01-08\", freq=\"1min\")[\n",
    "            np.random.randint(7 * 24 * 60, size=7 * 24 * 60)\n",
    "        ],\n",
    "        \"y\": np.random.randn(7 * 24 * 60),\n",
    "    }\n",
    ").assign(\n",
    "    day_of_week=lambda df: df.time.dt.dayofweek,\n",
    "    hour_of_day=lambda df: df.time.dt.hour\n",
    ")\n",
    "df = pd.concat([df_raw.assign(city=city) for city in (\"TGN\", \"NYC\", \"LON\")])"
   ]
  },
  {
   "cell_type": "code",
   "execution_count": 4,
   "metadata": {},
   "outputs": [
    {
     "data": {
      "text/html": [
       "<div>\n",
       "<style scoped>\n",
       "    .dataframe tbody tr th:only-of-type {\n",
       "        vertical-align: middle;\n",
       "    }\n",
       "\n",
       "    .dataframe tbody tr th {\n",
       "        vertical-align: top;\n",
       "    }\n",
       "\n",
       "    .dataframe thead th {\n",
       "        text-align: right;\n",
       "    }\n",
       "</style>\n",
       "<table border=\"1\" class=\"dataframe\">\n",
       "  <thead>\n",
       "    <tr style=\"text-align: right;\">\n",
       "      <th></th>\n",
       "      <th>time</th>\n",
       "      <th>y</th>\n",
       "      <th>day_of_week</th>\n",
       "      <th>hour_of_day</th>\n",
       "      <th>city</th>\n",
       "    </tr>\n",
       "  </thead>\n",
       "  <tbody>\n",
       "    <tr>\n",
       "      <th>0</th>\n",
       "      <td>2021-01-06 01:10:00</td>\n",
       "      <td>-0.216104</td>\n",
       "      <td>2</td>\n",
       "      <td>1</td>\n",
       "      <td>TGN</td>\n",
       "    </tr>\n",
       "    <tr>\n",
       "      <th>1</th>\n",
       "      <td>2021-01-01 14:20:00</td>\n",
       "      <td>-1.016524</td>\n",
       "      <td>4</td>\n",
       "      <td>14</td>\n",
       "      <td>TGN</td>\n",
       "    </tr>\n",
       "    <tr>\n",
       "      <th>2</th>\n",
       "      <td>2021-01-04 17:50:00</td>\n",
       "      <td>-2.326362</td>\n",
       "      <td>0</td>\n",
       "      <td>17</td>\n",
       "      <td>TGN</td>\n",
       "    </tr>\n",
       "    <tr>\n",
       "      <th>3</th>\n",
       "      <td>2021-01-04 14:31:00</td>\n",
       "      <td>-0.358456</td>\n",
       "      <td>0</td>\n",
       "      <td>14</td>\n",
       "      <td>TGN</td>\n",
       "    </tr>\n",
       "    <tr>\n",
       "      <th>4</th>\n",
       "      <td>2021-01-04 23:34:00</td>\n",
       "      <td>-0.490571</td>\n",
       "      <td>0</td>\n",
       "      <td>23</td>\n",
       "      <td>TGN</td>\n",
       "    </tr>\n",
       "    <tr>\n",
       "      <th>5</th>\n",
       "      <td>2021-01-05 08:25:00</td>\n",
       "      <td>-0.149901</td>\n",
       "      <td>1</td>\n",
       "      <td>8</td>\n",
       "      <td>TGN</td>\n",
       "    </tr>\n",
       "    <tr>\n",
       "      <th>6</th>\n",
       "      <td>2021-01-01 07:46:00</td>\n",
       "      <td>-0.628898</td>\n",
       "      <td>4</td>\n",
       "      <td>7</td>\n",
       "      <td>TGN</td>\n",
       "    </tr>\n",
       "    <tr>\n",
       "      <th>7</th>\n",
       "      <td>2021-01-04 01:46:00</td>\n",
       "      <td>1.829330</td>\n",
       "      <td>0</td>\n",
       "      <td>1</td>\n",
       "      <td>TGN</td>\n",
       "    </tr>\n",
       "    <tr>\n",
       "      <th>8</th>\n",
       "      <td>2021-01-04 20:58:00</td>\n",
       "      <td>0.517337</td>\n",
       "      <td>0</td>\n",
       "      <td>20</td>\n",
       "      <td>TGN</td>\n",
       "    </tr>\n",
       "    <tr>\n",
       "      <th>9</th>\n",
       "      <td>2021-01-06 18:42:00</td>\n",
       "      <td>-0.499613</td>\n",
       "      <td>2</td>\n",
       "      <td>18</td>\n",
       "      <td>TGN</td>\n",
       "    </tr>\n",
       "  </tbody>\n",
       "</table>\n",
       "</div>"
      ],
      "text/plain": [
       "                 time         y  day_of_week  hour_of_day city\n",
       "0 2021-01-06 01:10:00 -0.216104            2            1  TGN\n",
       "1 2021-01-01 14:20:00 -1.016524            4           14  TGN\n",
       "2 2021-01-04 17:50:00 -2.326362            0           17  TGN\n",
       "3 2021-01-04 14:31:00 -0.358456            0           14  TGN\n",
       "4 2021-01-04 23:34:00 -0.490571            0           23  TGN\n",
       "5 2021-01-05 08:25:00 -0.149901            1            8  TGN\n",
       "6 2021-01-01 07:46:00 -0.628898            4            7  TGN\n",
       "7 2021-01-04 01:46:00  1.829330            0            1  TGN\n",
       "8 2021-01-04 20:58:00  0.517337            0           20  TGN\n",
       "9 2021-01-06 18:42:00 -0.499613            2           18  TGN"
      ]
     },
     "execution_count": 4,
     "metadata": {},
     "output_type": "execute_result"
    }
   ],
   "source": [
    "df.head(10)"
   ]
  },
  {
   "cell_type": "code",
   "execution_count": 5,
   "metadata": {},
   "outputs": [],
   "source": [
    "treatments = power.splitter.assign_treatment_df(df)"
   ]
  },
  {
   "cell_type": "code",
   "execution_count": 6,
   "metadata": {},
   "outputs": [
    {
     "data": {
      "text/plain": [
       "city  treatment\n",
       "LON   A            168\n",
       "      B            168\n",
       "NYC   A            168\n",
       "      B            168\n",
       "TGN   A            168\n",
       "      B            168\n",
       "dtype: int64"
      ]
     },
     "execution_count": 6,
     "metadata": {},
     "output_type": "execute_result"
    }
   ],
   "source": [
    "# For every city, we have a balanced AB split\n",
    "(\n",
    "    treatments\n",
    "    .loc[:, [\"city\", \"treatment\", \"time\"]]\n",
    "    .drop_duplicates()\n",
    "    .groupby([\"city\", \"treatment\"])\n",
    "    .size()\n",
    "    .head(10)\n",
    ")"
   ]
  },
  {
   "cell_type": "code",
   "execution_count": 7,
   "metadata": {},
   "outputs": [
    {
     "data": {
      "text/plain": [
       "hour_of_day  treatment\n",
       "0            A            21\n",
       "             B            21\n",
       "1            A            21\n",
       "             B            21\n",
       "2            A            21\n",
       "             B            21\n",
       "3            A            21\n",
       "             B            21\n",
       "4            A            21\n",
       "             B            21\n",
       "dtype: int64"
      ]
     },
     "execution_count": 7,
     "metadata": {},
     "output_type": "execute_result"
    }
   ],
   "source": [
    "# For every hour of day, we have a balanced AB split\n",
    "(\n",
    "    treatments\n",
    "    .loc[:, [\"city\", \"treatment\", \"time\", \"hour_of_day\"]]\n",
    "    .drop_duplicates()\n",
    "    .groupby([\"hour_of_day\", \"treatment\"])\n",
    "    .size()\n",
    "    .head(10)\n",
    ")"
   ]
  },
  {
   "cell_type": "code",
   "execution_count": 8,
   "metadata": {},
   "outputs": [
    {
     "data": {
      "text/plain": [
       "day_of_week  treatment\n",
       "0            A            72\n",
       "             B            72\n",
       "1            A            72\n",
       "             B            72\n",
       "2            A            72\n",
       "             B            72\n",
       "3            A            72\n",
       "             B            72\n",
       "4            A            72\n",
       "             B            72\n",
       "dtype: int64"
      ]
     },
     "execution_count": 8,
     "metadata": {},
     "output_type": "execute_result"
    }
   ],
   "source": [
    "# For every day of week, we have a balanced AB split\n",
    "(\n",
    "    treatments\n",
    "    .loc[:, [\"city\", \"treatment\", \"time\", \"day_of_week\"]]\n",
    "    .drop_duplicates()\n",
    "    .groupby([\"day_of_week\", \"treatment\"])\n",
    "    .size()\n",
    "    .head(10)\n",
    ")"
   ]
  },
  {
   "cell_type": "code",
   "execution_count": 9,
   "metadata": {},
   "outputs": [
    {
     "data": {
      "text/plain": [
       "city  treatment\n",
       "LON   B            36\n",
       "NYC   B            36\n",
       "TGN   B            36\n",
       "dtype: int64"
      ]
     },
     "execution_count": 9,
     "metadata": {},
     "output_type": "execute_result"
    }
   ],
   "source": [
    "# In the first 30 minutes of the day, LON, NYC, and TGN have a constant treatment\n",
    "treatments.query(\"time < '2021-01-01 00:30:00'\").groupby([\"city\", \"treatment\"]).size()"
   ]
  },
  {
   "cell_type": "code",
   "execution_count": 10,
   "metadata": {},
   "outputs": [
    {
     "data": {
      "text/plain": [
       "0.14"
      ]
     },
     "execution_count": 10,
     "metadata": {},
     "output_type": "execute_result"
    }
   ],
   "source": [
    "# We can run power analysis\n",
    "power.power_analysis(df, average_effect=0.01)"
   ]
  }
 ],
 "metadata": {
  "kernelspec": {
   "display_name": "venv",
   "language": "python",
   "name": "python3"
  },
  "language_info": {
   "codemirror_mode": {
    "name": "ipython",
    "version": 3
   },
   "file_extension": ".py",
   "mimetype": "text/x-python",
   "name": "python",
   "nbconvert_exporter": "python",
   "pygments_lexer": "ipython3",
   "version": "3.8.6 (default, Jan 17 2022, 12:11:54) \n[Clang 12.0.5 (clang-1205.0.22.11)]"
  },
  "orig_nbformat": 4,
  "vscode": {
   "interpreter": {
    "hash": "29c447d2129f0d56b23b7ba3abc571cfa9d42454e0e2bba301a881797dc4c0e2"
   }
  }
 },
 "nbformat": 4,
 "nbformat_minor": 2
}

{
 "cells": [
  {
   "attachments": {},
   "cell_type": "markdown",
   "metadata": {},
   "source": [
    "This notebook shows how to use the multivariate module. The idea is to use several treatments in the splitter and only one of them is used to run the hypothesis test."
   ]
  },
  {
   "cell_type": "code",
   "execution_count": 1,
   "metadata": {},
   "outputs": [],
   "source": [
    "import numpy as np\n",
    "import pandas as pd\n",
    "from cluster_experiments import PowerAnalysis\n"
   ]
  },
  {
   "cell_type": "code",
   "execution_count": 2,
   "metadata": {},
   "outputs": [],
   "source": [
    "# Create fake data\n",
    "N = 1_000\n",
    "df = pd.DataFrame(\n",
    "    {\n",
    "        \"target\": np.random.normal(0, 1, size=N),\n",
    "    }\n",
    ")"
   ]
  },
  {
   "cell_type": "code",
   "execution_count": 3,
   "metadata": {},
   "outputs": [
    {
     "data": {
      "text/plain": [
       "0.18"
      ]
     },
     "execution_count": 3,
     "metadata": {},
     "output_type": "execute_result"
    }
   ],
   "source": [
    "# Run power analysis using 3 variants\n",
    "config_abc = {\n",
    "    \"analysis\": \"ols_non_clustered\",\n",
    "    \"perturbator\": \"uniform\",\n",
    "    \"splitter\": \"non_clustered\",\n",
    "    \"treatments\": [\"A\", \"B\", \"C\"],\n",
    "    \"control\": \"A\",\n",
    "    \"treatment\": \"B\",\n",
    "    \"n_simulations\": 50,\n",
    "}\n",
    "\n",
    "power_abc = PowerAnalysis.from_dict(config_abc)\n",
    "power_abc.power_analysis(df, average_effect=0.1)"
   ]
  },
  {
   "cell_type": "code",
   "execution_count": 4,
   "metadata": {},
   "outputs": [
    {
     "data": {
      "text/plain": [
       "0.28"
      ]
     },
     "execution_count": 4,
     "metadata": {},
     "output_type": "execute_result"
    }
   ],
   "source": [
    "# Run power analysis using 2 variants\n",
    "config_ab = {\n",
    "    \"analysis\": \"ols_non_clustered\",\n",
    "    \"perturbator\": \"uniform\",\n",
    "    \"splitter\": \"non_clustered\",\n",
    "    \"treatments\": [\"A\", \"B\"],\n",
    "    \"control\": \"A\",\n",
    "    \"treatment\": \"B\",\n",
    "    \"n_simulations\": 50,\n",
    "}\n",
    "power_ab = PowerAnalysis.from_dict(config_ab)\n",
    "power_ab.power_analysis(df, average_effect=0.1)"
   ]
  },
  {
   "attachments": {},
   "cell_type": "markdown",
   "metadata": {},
   "source": [
    "The power of the AB test is higher than the ABC test, which makes sense."
   ]
  },
  {
   "cell_type": "markdown",
   "metadata": {},
   "source": []
  }
 ],
 "metadata": {
  "kernelspec": {
   "display_name": "venv",
   "language": "python",
   "name": "python3"
  },
  "language_info": {
   "codemirror_mode": {
    "name": "ipython",
    "version": 3
   },
   "file_extension": ".py",
   "mimetype": "text/x-python",
   "name": "python",
   "nbconvert_exporter": "python",
   "pygments_lexer": "ipython3",
   "version": "3.8.6"
  },
  "orig_nbformat": 4,
  "vscode": {
   "interpreter": {
    "hash": "29c447d2129f0d56b23b7ba3abc571cfa9d42454e0e2bba301a881797dc4c0e2"
   }
  }
 },
 "nbformat": 4,
 "nbformat_minor": 2
}

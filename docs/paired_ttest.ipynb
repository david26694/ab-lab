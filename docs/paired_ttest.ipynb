{
    "cells": [
        {
            "cell_type": "markdown",
            "metadata": {},
            "source": [
                "This notebook shows how the PairedTTestClusteredAnalysis class is performing the paired t test. It's important to get a grasp on the difference between cluster and strata columns.\n"
            ]
        },
        {
            "cell_type": "code",
            "execution_count": 1,
            "metadata": {
                "pycharm": {
                    "name": "#%%\n"
                }
            },
            "outputs": [],
            "source": [
                "from ab_lab.experiment_analysis import PairedTTestClusteredAnalysis\n",
                "\n",
                "import pandas as pd\n"
            ]
        },
        {
            "cell_type": "code",
            "execution_count": 2,
            "metadata": {
                "pycharm": {
                    "name": "#%%\n"
                }
            },
            "outputs": [],
            "source": [
                "# Let's generate some fake switchback data (the clusters here would be city and date\n",
                "df = pd.DataFrame(\n",
                "        {\n",
                "            \"country_code\": [\"ES\"] * 4 + [\"IT\"] * 4 + [\"PL\"] * 4 + [\"RO\"] * 4,\n",
                "            \"date\": [\"2022-01-01\", \"2022-01-02\", \"2022-01-03\", \"2022-01-04\"] * 4,\n",
                "            \"treatment\": [\"A\", 'B'] * 8,\n",
                "            \"target\": [0.01] * 15 + [0.1],\n",
                "        }\n",
                "    )"
            ]
        },
        {
            "cell_type": "markdown",
            "metadata": {},
            "source": [
                "Let's see what the PairedTTestClusteredAnalysis class is doing under the hood. As I am passing already the treatment column, there's no need for splitter nor perturbator\n"
            ]
        },
        {
            "cell_type": "code",
            "execution_count": 3,
            "metadata": {
                "pycharm": {
                    "name": "#%%\n"
                }
            },
            "outputs": [
                {
                    "name": "stdout",
                    "output_type": "stream",
                    "text": [
                        "performing paired t test in this data \n",
                        " treatment        A      B\n",
                        "country_code             \n",
                        "ES            0.01  0.010\n",
                        "IT            0.01  0.010\n",
                        "PL            0.01  0.010\n",
                        "RO            0.01  0.055 \n",
                        "\n"
                    ]
                },
                {
                    "data": {
                        "text/plain": "treatment        A      B\ncountry_code             \nES            0.01  0.010\nIT            0.01  0.010\nPL            0.01  0.010\nRO            0.01  0.055",
                        "text/html": "<div>\n<style scoped>\n    .dataframe tbody tr th:only-of-type {\n        vertical-align: middle;\n    }\n\n    .dataframe tbody tr th {\n        vertical-align: top;\n    }\n\n    .dataframe thead th {\n        text-align: right;\n    }\n</style>\n<table border=\"1\" class=\"dataframe\">\n  <thead>\n    <tr style=\"text-align: right;\">\n      <th>treatment</th>\n      <th>A</th>\n      <th>B</th>\n    </tr>\n    <tr>\n      <th>country_code</th>\n      <th></th>\n      <th></th>\n    </tr>\n  </thead>\n  <tbody>\n    <tr>\n      <th>ES</th>\n      <td>0.01</td>\n      <td>0.010</td>\n    </tr>\n    <tr>\n      <th>IT</th>\n      <td>0.01</td>\n      <td>0.010</td>\n    </tr>\n    <tr>\n      <th>PL</th>\n      <td>0.01</td>\n      <td>0.010</td>\n    </tr>\n    <tr>\n      <th>RO</th>\n      <td>0.01</td>\n      <td>0.055</td>\n    </tr>\n  </tbody>\n</table>\n</div>"
                    },
                    "execution_count": 3,
                    "metadata": {},
                    "output_type": "execute_result"
                }
            ],
            "source": [
                "analysis = PairedTTestClusteredAnalysis(\n",
                "    cluster_cols=[\"country_code\", \"date\"], strata_cols = ['country_code']\n",
                ")\n",
                "\n",
                "analysis._preprocessing(df, verbose=True)"
            ]
        },
        {
            "cell_type": "markdown",
            "source": [
                "Keep in mind that strata_cols needs to be a subset of cluster_cols and it will be used as the index for pivoting."
            ],
            "metadata": {
                "collapsed": false
            }
        },
        {
            "cell_type": "code",
            "execution_count": 4,
            "outputs": [
                {
                    "name": "stdout",
                    "output_type": "stream",
                    "text": [
                        "paired t test results: \n",
                        " TtestResult(statistic=-1.0, pvalue=0.39100221895577053, df=3) \n",
                        "\n"
                    ]
                },
                {
                    "data": {
                        "text/plain": "0.39100221895577053"
                    },
                    "execution_count": 4,
                    "metadata": {},
                    "output_type": "execute_result"
                }
            ],
            "source": [
                "analysis.analysis_pvalue(df, verbose=True)\n"
            ],
            "metadata": {
                "collapsed": false,
                "pycharm": {
                    "name": "#%%\n"
                }
            }
        },
        {
            "cell_type": "code",
            "execution_count": 4,
            "outputs": [],
            "source": [],
            "metadata": {
                "collapsed": false,
                "pycharm": {
                    "name": "#%%\n"
                }
            }
        }
    ],
    "metadata": {
        "kernelspec": {
            "display_name": "Python 3 (ipykernel)",
            "language": "python",
            "name": "python3"
        },
        "language_info": {
            "codemirror_mode": {
                "name": "ipython",
                "version": 3
            },
            "file_extension": ".py",
            "mimetype": "text/x-python",
            "name": "python",
            "nbconvert_exporter": "python",
            "pygments_lexer": "ipython3",
            "version": "3.8.6"
        }
    },
    "nbformat": 4,
    "nbformat_minor": 1
}

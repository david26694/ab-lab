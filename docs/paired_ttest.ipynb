{
 "cells": [
  {
   "cell_type": "markdown",
   "source": [
    "This notebook shows how to use the switchback module. In particular, it shows how to create a PowerAnalysis object with a switchback splitter, using a time column and 30 min splits.\n",
    "\n",
    "It uses the splitter of the PowerAnalysis object to simulate the treatment assignment, and shows how the stratification of the clusters works.\n",
    "\n",
    "In the end, it also shows how to run the power analysis."
   ],
   "metadata": {
    "collapsed": false
   }
  },
  {
   "cell_type": "code",
   "execution_count": null,
   "outputs": [],
   "source": [
    "from cluster_experiments import PowerAnalysis\n",
    "import pandas as pd\n",
    "import numpy as np\n",
    "\n",
    "np.random.seed(42)"
   ],
   "metadata": {
    "collapsed": false,
    "pycharm": {
     "name": "#%%\n"
    }
   }
  },
  {
   "cell_type": "code",
   "execution_count": null,
   "outputs": [],
   "source": [
    "# Define bihourly switchback splitter\n",
    "config = {\n",
    "    \"time_col\": \"time\",\n",
    "    \"switch_frequency\": \"30min\",\n",
    "    \"perturbator\": \"uniform\",\n",
    "    \"analysis\": \"pairedttest\",\n",
    "    \"splitter\": \"switchback_stratified\",\n",
    "    \"cluster_cols\": [\"time\", \"city\"],\n",
    "    \"strata_cols\": [\"city\"],\n",
    "    \"target_col\": \"y\",\n",
    "}\n",
    "\n",
    "power = PowerAnalysis.from_dict(config)"
   ],
   "metadata": {
    "collapsed": false,
    "pycharm": {
     "name": "#%%\n"
    }
   }
  },
  {
   "cell_type": "code",
   "execution_count": null,
   "outputs": [],
   "source": [
    "# Define data with random dates\n",
    "df_raw = pd.DataFrame(\n",
    "    {\n",
    "        # Generate 10k random timestamps from 2021-01-01 to 2021-01-10\n",
    "        \"time\": pd.date_range(\"2021-01-01\", \"2021-01-08\", freq=\"1min\")[\n",
    "            np.random.randint(7 * 24 * 60, size=7 * 24 * 60)\n",
    "        ],\n",
    "        \"y\": np.random.randn(7 * 24 * 60),\n",
    "    }\n",
    ").assign(\n",
    "    day_of_week=lambda df: df.time.dt.dayofweek,\n",
    "    hour_of_day=lambda df: df.time.dt.hour\n",
    ")\n",
    "df = pd.concat([df_raw.assign(city=city) for city in (\"TGN\", \"NYC\", \"LON\", \"REU\")])"
   ],
   "metadata": {
    "collapsed": false,
    "pycharm": {
     "name": "#%%\n"
    }
   }
  },
  {
   "cell_type": "code",
   "execution_count": null,
   "outputs": [],
   "source": [
    "df.head(10)"
   ],
   "metadata": {
    "collapsed": false,
    "pycharm": {
     "name": "#%%\n"
    }
   }
  },
  {
   "cell_type": "code",
   "execution_count": null,
   "outputs": [],
   "source": [
    "treatments = power.splitter.assign_treatment_df(df)"
   ],
   "metadata": {
    "collapsed": false,
    "pycharm": {
     "name": "#%%\n"
    }
   }
  },
  {
   "cell_type": "code",
   "execution_count": null,
   "outputs": [],
   "source": [
    "# For every city, we have a balanced AB split\n",
    "(\n",
    "    treatments\n",
    "    .loc[:, [\"city\", \"treatment\", \"time\"]]\n",
    "    .drop_duplicates()\n",
    "    .groupby([\"city\", \"treatment\"])\n",
    "    .size()\n",
    "    .head(10)\n",
    ")"
   ],
   "metadata": {
    "collapsed": false,
    "pycharm": {
     "name": "#%%\n"
    }
   }
  },
  {
   "cell_type": "code",
   "execution_count": null,
   "outputs": [],
   "source": [
    "# For every hour of day, we have a balanced AB split\n",
    "(\n",
    "    treatments\n",
    "    .loc[:, [\"city\", \"treatment\", \"time\", \"hour_of_day\"]]\n",
    "    .drop_duplicates()\n",
    "    .groupby([\"hour_of_day\", \"treatment\"])\n",
    "    .size()\n",
    "    .head(10)\n",
    ")"
   ],
   "metadata": {
    "collapsed": false,
    "pycharm": {
     "name": "#%%\n"
    }
   }
  },
  {
   "cell_type": "code",
   "execution_count": null,
   "outputs": [],
   "source": [
    "# For every day of week, we have a balanced AB split\n",
    "(\n",
    "    treatments\n",
    "    .loc[:, [\"city\", \"treatment\", \"time\", \"day_of_week\"]]\n",
    "    .drop_duplicates()\n",
    "    .groupby([\"day_of_week\", \"treatment\"])\n",
    "    .size()\n",
    "    .head(10)\n",
    ")"
   ],
   "metadata": {
    "collapsed": false,
    "pycharm": {
     "name": "#%%\n"
    }
   }
  },
  {
   "cell_type": "code",
   "execution_count": null,
   "outputs": [],
   "source": [
    "# In the first 30 minutes of the day, LON, NYC, REU, and TGN have a constant treatment\n",
    "treatments.query(\"time < '2021-01-01 00:30:00'\").groupby([\"city\", \"treatment\"]).size()"
   ],
   "metadata": {
    "collapsed": false,
    "pycharm": {
     "name": "#%%\n"
    }
   }
  },
  {
   "cell_type": "code",
   "execution_count": null,
   "outputs": [],
   "source": [
    "# We can run power analysis\n",
    "power.power_analysis(df, average_effect=0.01)\n",
    "\n"
   ],
   "metadata": {
    "collapsed": false,
    "pycharm": {
     "name": "#%%\n"
    }
   }
  }
 ],
 "metadata": {
  "kernelspec": {
   "display_name": "Python 3",
   "language": "python",
   "name": "python3"
  },
  "language_info": {
   "codemirror_mode": {
    "name": "ipython",
    "version": 2
   },
   "file_extension": ".py",
   "mimetype": "text/x-python",
   "name": "python",
   "nbconvert_exporter": "python",
   "pygments_lexer": "ipython2",
   "version": "2.7.6"
  }
 },
 "nbformat": 4,
 "nbformat_minor": 0
}
